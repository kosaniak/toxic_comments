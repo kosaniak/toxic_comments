{
 "cells": [
  {
   "cell_type": "code",
   "execution_count": 206,
   "id": "5a213e3d",
   "metadata": {},
   "outputs": [],
   "source": [
    "import numpy as np, pandas as pd\n",
    "import sys, os, re, csv, codecs\n",
    "import seaborn as sns\n",
    "from keras.preprocessing.text import Tokenizer\n",
    "from keras.preprocessing.sequence import pad_sequences\n",
    "from keras.layers import Dense, Input, LSTM, Embedding, Dropout, Activation, Flatten\n",
    "from keras.layers import Bidirectional, GlobalMaxPool1D\n",
    "from keras.models import Model\n",
    "from tensorflow.keras.utils import to_categorical\n",
    "from keras import initializers, regularizers, constraints, optimizers, layers\n",
    "from sklearn import metrics\n",
    "from sklearn import model_selection\n",
    "import matplotlib.pyplot as plt\n",
    "%matplotlib inline"
   ]
  },
  {
   "cell_type": "code",
   "execution_count": 207,
   "id": "e03d65a1",
   "metadata": {},
   "outputs": [],
   "source": [
    "train = pd.read_csv('tox_train.csv')\n",
    "test = pd.read_csv('tox_test.csv')"
   ]
  },
  {
   "cell_type": "code",
   "execution_count": 208,
   "id": "2c3c26df",
   "metadata": {},
   "outputs": [
    {
     "data": {
      "text/html": [
       "<div>\n",
       "<style scoped>\n",
       "    .dataframe tbody tr th:only-of-type {\n",
       "        vertical-align: middle;\n",
       "    }\n",
       "\n",
       "    .dataframe tbody tr th {\n",
       "        vertical-align: top;\n",
       "    }\n",
       "\n",
       "    .dataframe thead th {\n",
       "        text-align: right;\n",
       "    }\n",
       "</style>\n",
       "<table border=\"1\" class=\"dataframe\">\n",
       "  <thead>\n",
       "    <tr style=\"text-align: right;\">\n",
       "      <th></th>\n",
       "      <th>id</th>\n",
       "      <th>target</th>\n",
       "      <th>comment_text</th>\n",
       "      <th>severe_toxicity</th>\n",
       "      <th>obscene</th>\n",
       "      <th>identity_attack</th>\n",
       "      <th>insult</th>\n",
       "      <th>threat</th>\n",
       "    </tr>\n",
       "  </thead>\n",
       "  <tbody>\n",
       "    <tr>\n",
       "      <th>0</th>\n",
       "      <td>59848</td>\n",
       "      <td>0.000000</td>\n",
       "      <td>This is so cool. It's like, 'would you want yo...</td>\n",
       "      <td>0.000000</td>\n",
       "      <td>0.0</td>\n",
       "      <td>0.000000</td>\n",
       "      <td>0.00000</td>\n",
       "      <td>0.0</td>\n",
       "    </tr>\n",
       "    <tr>\n",
       "      <th>1</th>\n",
       "      <td>59849</td>\n",
       "      <td>0.000000</td>\n",
       "      <td>Thank you!! This would make my life a lot less...</td>\n",
       "      <td>0.000000</td>\n",
       "      <td>0.0</td>\n",
       "      <td>0.000000</td>\n",
       "      <td>0.00000</td>\n",
       "      <td>0.0</td>\n",
       "    </tr>\n",
       "    <tr>\n",
       "      <th>2</th>\n",
       "      <td>59852</td>\n",
       "      <td>0.000000</td>\n",
       "      <td>This is such an urgent design problem; kudos t...</td>\n",
       "      <td>0.000000</td>\n",
       "      <td>0.0</td>\n",
       "      <td>0.000000</td>\n",
       "      <td>0.00000</td>\n",
       "      <td>0.0</td>\n",
       "    </tr>\n",
       "    <tr>\n",
       "      <th>3</th>\n",
       "      <td>59855</td>\n",
       "      <td>0.000000</td>\n",
       "      <td>Is this something I'll be able to install on m...</td>\n",
       "      <td>0.000000</td>\n",
       "      <td>0.0</td>\n",
       "      <td>0.000000</td>\n",
       "      <td>0.00000</td>\n",
       "      <td>0.0</td>\n",
       "    </tr>\n",
       "    <tr>\n",
       "      <th>4</th>\n",
       "      <td>59856</td>\n",
       "      <td>0.893617</td>\n",
       "      <td>haha you guys are a bunch of losers.</td>\n",
       "      <td>0.021277</td>\n",
       "      <td>0.0</td>\n",
       "      <td>0.021277</td>\n",
       "      <td>0.87234</td>\n",
       "      <td>0.0</td>\n",
       "    </tr>\n",
       "  </tbody>\n",
       "</table>\n",
       "</div>"
      ],
      "text/plain": [
       "      id    target                                       comment_text  \\\n",
       "0  59848  0.000000  This is so cool. It's like, 'would you want yo...   \n",
       "1  59849  0.000000  Thank you!! This would make my life a lot less...   \n",
       "2  59852  0.000000  This is such an urgent design problem; kudos t...   \n",
       "3  59855  0.000000  Is this something I'll be able to install on m...   \n",
       "4  59856  0.893617               haha you guys are a bunch of losers.   \n",
       "\n",
       "   severe_toxicity  obscene  identity_attack   insult  threat  \n",
       "0         0.000000      0.0         0.000000  0.00000     0.0  \n",
       "1         0.000000      0.0         0.000000  0.00000     0.0  \n",
       "2         0.000000      0.0         0.000000  0.00000     0.0  \n",
       "3         0.000000      0.0         0.000000  0.00000     0.0  \n",
       "4         0.021277      0.0         0.021277  0.87234     0.0  "
      ]
     },
     "execution_count": 208,
     "metadata": {},
     "output_type": "execute_result"
    }
   ],
   "source": [
    "train.head()"
   ]
  },
  {
   "cell_type": "code",
   "execution_count": 209,
   "id": "3f969e21",
   "metadata": {},
   "outputs": [
    {
     "data": {
      "text/plain": [
       "(id                 False\n",
       " target             False\n",
       " comment_text       False\n",
       " severe_toxicity    False\n",
       " obscene            False\n",
       " identity_attack    False\n",
       " insult             False\n",
       " threat             False\n",
       " dtype: bool,\n",
       " id              False\n",
       " comment_text    False\n",
       " dtype: bool)"
      ]
     },
     "execution_count": 209,
     "metadata": {},
     "output_type": "execute_result"
    }
   ],
   "source": [
    "train.isnull().any(), test.isnull().any()"
   ]
  },
  {
   "cell_type": "code",
   "execution_count": 210,
   "id": "9285fab2",
   "metadata": {},
   "outputs": [
    {
     "name": "stderr",
     "output_type": "stream",
     "text": [
      "/Users/dziuba/opt/anaconda3/lib/python3.9/site-packages/seaborn/_decorators.py:36: FutureWarning: Pass the following variables as keyword args: x, y. From version 0.12, the only valid positional argument will be `data`, and passing other arguments without an explicit keyword will result in an error or misinterpretation.\n",
      "  warnings.warn(\n"
     ]
    },
    {
     "data": {
      "image/png": "[encoded data removed]",
      "text/plain": [
       "<Figure size 720x504 with 1 Axes>"
      ]
     },
     "metadata": {
      "needs_background": "light"
     },
     "output_type": "display_data"
    }
   ],
   "source": [
    "list_column = [\"target\",\"severe_toxicity\",\"obscene\",\"identity_attack\", \"insult\", \"threat\" ]\n",
    "\n",
    "counts = train[list_column].sum()\n",
    "plt.figure(figsize=(10,7))\n",
    "ax = sns.barplot(counts.index, counts.values, alpha=0.8)\n",
    "\n",
    "plt.title(\"Comments classification\")\n",
    "plt.xlabel(\"Type of comments\")\n",
    "plt.ylabel(\"Number of comments\")\n",
    "\n",
    "\n",
    "plt.show()"
   ]
  },
  {
   "cell_type": "code",
   "execution_count": 211,
   "id": "882b3d16",
   "metadata": {},
   "outputs": [],
   "source": [
    "def convert_to_binary(df, col_name):\n",
    "    df[col_name] = np.where(df[col_name] >= 0.5, 1, 0)"
   ]
  },
  {
   "cell_type": "code",
   "execution_count": 212,
   "id": "eb1d692d",
   "metadata": {},
   "outputs": [
    {
     "name": "stdout",
     "output_type": "stream",
     "text": [
      "1443899 train comments, 360975 validate comments\n"
     ]
    }
   ],
   "source": [
    "train_df, validate_df = model_selection.train_test_split(train, test_size=0.2)\n",
    "print('%d train comments, %d validate comments' % (len(train_df), len(validate_df)))\n"
   ]
  },
  {
   "cell_type": "code",
   "execution_count": 213,
   "id": "425720ae",
   "metadata": {},
   "outputs": [],
   "source": [
    "MAX_FEATURES = 20000\n",
    "TOXICITY_COLUMN = 'target'\n",
    "TEXT_COLUMN = 'comment_text'"
   ]
  },
  {
   "cell_type": "code",
   "execution_count": 214,
   "id": "02192e5f",
   "metadata": {},
   "outputs": [
    {
     "data": {
      "text/html": [
       "<div>\n",
       "<style scoped>\n",
       "    .dataframe tbody tr th:only-of-type {\n",
       "        vertical-align: middle;\n",
       "    }\n",
       "\n",
       "    .dataframe tbody tr th {\n",
       "        vertical-align: top;\n",
       "    }\n",
       "\n",
       "    .dataframe thead th {\n",
       "        text-align: right;\n",
       "    }\n",
       "</style>\n",
       "<table border=\"1\" class=\"dataframe\">\n",
       "  <thead>\n",
       "    <tr style=\"text-align: right;\">\n",
       "      <th></th>\n",
       "      <th>id</th>\n",
       "      <th>target</th>\n",
       "      <th>comment_text</th>\n",
       "      <th>severe_toxicity</th>\n",
       "      <th>obscene</th>\n",
       "      <th>identity_attack</th>\n",
       "      <th>insult</th>\n",
       "      <th>threat</th>\n",
       "    </tr>\n",
       "  </thead>\n",
       "  <tbody>\n",
       "    <tr>\n",
       "      <th>1265751</th>\n",
       "      <td>5661868</td>\n",
       "      <td>0</td>\n",
       "      <td>Something like shovelling liquid manure!</td>\n",
       "      <td>0.0</td>\n",
       "      <td>0.2</td>\n",
       "      <td>0.0</td>\n",
       "      <td>0.3</td>\n",
       "      <td>0.1</td>\n",
       "    </tr>\n",
       "    <tr>\n",
       "      <th>337749</th>\n",
       "      <td>656696</td>\n",
       "      <td>0</td>\n",
       "      <td>Thousands of native and non native vets are go...</td>\n",
       "      <td>0.0</td>\n",
       "      <td>0.0</td>\n",
       "      <td>0.0</td>\n",
       "      <td>0.0</td>\n",
       "      <td>0.0</td>\n",
       "    </tr>\n",
       "    <tr>\n",
       "      <th>529486</th>\n",
       "      <td>891157</td>\n",
       "      <td>0</td>\n",
       "      <td>Yes, recent stress testing on new mortgage for...</td>\n",
       "      <td>0.0</td>\n",
       "      <td>0.0</td>\n",
       "      <td>0.0</td>\n",
       "      <td>0.0</td>\n",
       "      <td>0.0</td>\n",
       "    </tr>\n",
       "    <tr>\n",
       "      <th>258100</th>\n",
       "      <td>559484</td>\n",
       "      <td>0</td>\n",
       "      <td>While it's true that there have been a few cha...</td>\n",
       "      <td>0.0</td>\n",
       "      <td>0.0</td>\n",
       "      <td>0.0</td>\n",
       "      <td>0.0</td>\n",
       "      <td>0.0</td>\n",
       "    </tr>\n",
       "    <tr>\n",
       "      <th>154801</th>\n",
       "      <td>431440</td>\n",
       "      <td>0</td>\n",
       "      <td>PERS is a hideous mess to be sure. But what en...</td>\n",
       "      <td>0.0</td>\n",
       "      <td>0.0</td>\n",
       "      <td>0.0</td>\n",
       "      <td>0.2</td>\n",
       "      <td>0.0</td>\n",
       "    </tr>\n",
       "  </tbody>\n",
       "</table>\n",
       "</div>"
      ],
      "text/plain": [
       "              id  target                                       comment_text  \\\n",
       "1265751  5661868       0           Something like shovelling liquid manure!   \n",
       "337749    656696       0  Thousands of native and non native vets are go...   \n",
       "529486    891157       0  Yes, recent stress testing on new mortgage for...   \n",
       "258100    559484       0  While it's true that there have been a few cha...   \n",
       "154801    431440       0  PERS is a hideous mess to be sure. But what en...   \n",
       "\n",
       "         severe_toxicity  obscene  identity_attack  insult  threat  \n",
       "1265751              0.0      0.2              0.0     0.3     0.1  \n",
       "337749               0.0      0.0              0.0     0.0     0.0  \n",
       "529486               0.0      0.0              0.0     0.0     0.0  \n",
       "258100               0.0      0.0              0.0     0.0     0.0  \n",
       "154801               0.0      0.0              0.0     0.2     0.0  "
      ]
     },
     "execution_count": 214,
     "metadata": {},
     "output_type": "execute_result"
    }
   ],
   "source": [
    "convert_to_binary(train_df, TOXICITY_COLUMN)\n",
    "convert_to_binary(validate_df, TOXICITY_COLUMN)\n",
    "\n",
    "train_df.head()"
   ]
  },
  {
   "cell_type": "code",
   "execution_count": 215,
   "id": "8f2b6835",
   "metadata": {},
   "outputs": [],
   "source": [
    "tokenizer = Tokenizer(num_words=MAX_FEATURES)\n",
    "tokenizer.fit_on_texts(train_df[TEXT_COLUMN])\n",
    "train_tokenized_text = tokenizer.texts_to_sequences(train_df[TEXT_COLUMN])\n",
    "train_labels = to_categorical(train_df[TOXICITY_COLUMN])\n",
    "validate_tokenized_text = tokenizer.texts_to_sequences(validate_df[TEXT_COLUMN])\n",
    "validate_labels = to_categorical(validate_df[TOXICITY_COLUMN])\n",
    "test_text = tokenizer.texts_to_sequences(test[TEXT_COLUMN])"
   ]
  },
  {
   "cell_type": "code",
   "execution_count": 216,
   "id": "bd7402e1",
   "metadata": {},
   "outputs": [],
   "source": [
    "MAXLEN = 170\n",
    "train_text = pad_sequences(train_tokenized_text, maxlen=MAXLEN )\n",
    "validate_text = pad_sequences(validate_tokenized_text, maxlen=MAXLEN )\n",
    "test_text = pad_sequences(test_text, maxlen=maxlen)"
   ]
  },
  {
   "cell_type": "code",
   "execution_count": 217,
   "id": "54369d3c",
   "metadata": {},
   "outputs": [],
   "source": [
    "totalNumWords = [len(one_comment) for one_comment in train_tokenized_text]"
   ]
  },
  {
   "cell_type": "code",
   "execution_count": 218,
   "id": "217a2122",
   "metadata": {},
   "outputs": [
    {
     "data": {
      "image/png": "[encoded data removed]",
      "text/plain": [
       "<Figure size 432x288 with 1 Axes>"
      ]
     },
     "metadata": {
      "needs_background": "light"
     },
     "output_type": "display_data"
    }
   ],
   "source": [
    "plt.hist(totalNumWords,bins = np.arange(0,310,10))\n",
    "plt.show()"
   ]
  },
  {
   "cell_type": "code",
   "execution_count": 219,
   "id": "08097d74",
   "metadata": {},
   "outputs": [],
   "source": [
    "EMBED_SIZE = 128\n",
    "x = Embedding(MAX_FEATURES, EMBED_SIZE)(inp)"
   ]
  },
  {
   "cell_type": "code",
   "execution_count": 220,
   "id": "3fd96780",
   "metadata": {},
   "outputs": [],
   "source": [
    "x = LSTM(60, return_sequences=True, name='lstm_layer')(x)"
   ]
  },
  {
   "cell_type": "code",
   "execution_count": 221,
   "id": "0923f2ea",
   "metadata": {},
   "outputs": [],
   "source": [
    "x = GlobalMaxPool1D()(x)"
   ]
  },
  {
   "cell_type": "code",
   "execution_count": 222,
   "id": "9cca07ff",
   "metadata": {},
   "outputs": [],
   "source": [
    "x = Dropout(0.1)(x)"
   ]
  },
  {
   "cell_type": "code",
   "execution_count": 223,
   "id": "4b98e72e",
   "metadata": {},
   "outputs": [],
   "source": [
    "x = Dense(50, activation=\"relu\")(x)"
   ]
  },
  {
   "cell_type": "code",
   "execution_count": 224,
   "id": "033ff0a3",
   "metadata": {},
   "outputs": [],
   "source": [
    "x = Dropout(0.1)(x) "
   ]
  },
  {
   "cell_type": "code",
   "execution_count": 225,
   "id": "8ed141d2",
   "metadata": {},
   "outputs": [],
   "source": [
    "x = Dense(2, activation=\"sigmoid\")(x)"
   ]
  },
  {
   "cell_type": "code",
   "execution_count": 226,
   "id": "afdafb74",
   "metadata": {},
   "outputs": [
    {
     "name": "stdout",
     "output_type": "stream",
     "text": [
      "Model: \"model_15\"\n",
      "_________________________________________________________________\n",
      "Layer (type)                 Output Shape              Param #   \n",
      "=================================================================\n",
      "input_3 (InputLayer)         [(None, 170)]             0         \n",
      "_________________________________________________________________\n",
      "embedding_5 (Embedding)      (None, 170, 128)          2560000   \n",
      "_________________________________________________________________\n",
      "lstm_layer (LSTM)            (None, 170, 60)           45360     \n",
      "_________________________________________________________________\n",
      "global_max_pooling1d_4 (Glob (None, 60)                0         \n",
      "_________________________________________________________________\n",
      "dropout_9 (Dropout)          (None, 60)                0         \n",
      "_________________________________________________________________\n",
      "dense_22 (Dense)             (None, 50)                3050      \n",
      "_________________________________________________________________\n",
      "dropout_10 (Dropout)         (None, 50)                0         \n",
      "_________________________________________________________________\n",
      "dense_23 (Dense)             (None, 2)                 102       \n",
      "=================================================================\n",
      "Total params: 2,608,512\n",
      "Trainable params: 2,608,512\n",
      "Non-trainable params: 0\n",
      "_________________________________________________________________\n"
     ]
    }
   ],
   "source": [
    "model = Model(inputs=inp, outputs=x)\n",
    "model.compile(\n",
    "    loss='binary_crossentropy',\n",
    "    optimizer='adam',\n",
    "    metrics=['accuracy']\n",
    ")\n",
    "model.summary()"
   ]
  },
  {
   "cell_type": "code",
   "execution_count": 227,
   "id": "e8c83d72",
   "metadata": {},
   "outputs": [
    {
     "name": "stdout",
     "output_type": "stream",
     "text": [
      "Epoch 1/2\n",
      "11281/11281 [==============================] - 13515s 1s/step - loss: 0.1481 - accuracy: 0.9455 - val_loss: 0.1307 - val_accuracy: 0.9500\n",
      "Epoch 2/2\n",
      "11281/11281 [==============================] - 5792s 513ms/step - loss: 0.1277 - accuracy: 0.9511 - val_loss: 0.1287 - val_accuracy: 0.9509\n"
     ]
    },
    {
     "data": {
      "text/plain": [
       "<keras.callbacks.History at 0x20ad659a0>"
      ]
     },
     "execution_count": 227,
     "metadata": {},
     "output_type": "execute_result"
    }
   ],
   "source": [
    "model.fit(train_text, train_labels, batch_size=128, epochs=2, validation_data=(validate_text, validate_labels))"
   ]
  },
  {
   "cell_type": "code",
   "execution_count": 228,
   "id": "241d2831",
   "metadata": {},
   "outputs": [
    {
     "data": {
      "text/html": [
       "<div>\n",
       "<style scoped>\n",
       "    .dataframe tbody tr th:only-of-type {\n",
       "        vertical-align: middle;\n",
       "    }\n",
       "\n",
       "    .dataframe tbody tr th {\n",
       "        vertical-align: top;\n",
       "    }\n",
       "\n",
       "    .dataframe thead th {\n",
       "        text-align: right;\n",
       "    }\n",
       "</style>\n",
       "<table border=\"1\" class=\"dataframe\">\n",
       "  <thead>\n",
       "    <tr style=\"text-align: right;\">\n",
       "      <th></th>\n",
       "      <th>id</th>\n",
       "      <th>prediction</th>\n",
       "    </tr>\n",
       "  </thead>\n",
       "  <tbody>\n",
       "    <tr>\n",
       "      <th>1392280</th>\n",
       "      <td>5820062</td>\n",
       "      <td>0.788071</td>\n",
       "    </tr>\n",
       "    <tr>\n",
       "      <th>521755</th>\n",
       "      <td>882045</td>\n",
       "      <td>0.402944</td>\n",
       "    </tr>\n",
       "    <tr>\n",
       "      <th>881942</th>\n",
       "      <td>5199740</td>\n",
       "      <td>0.001373</td>\n",
       "    </tr>\n",
       "    <tr>\n",
       "      <th>1662832</th>\n",
       "      <td>6160376</td>\n",
       "      <td>0.001347</td>\n",
       "    </tr>\n",
       "    <tr>\n",
       "      <th>311921</th>\n",
       "      <td>624151</td>\n",
       "      <td>0.003013</td>\n",
       "    </tr>\n",
       "  </tbody>\n",
       "</table>\n",
       "</div>"
      ],
      "text/plain": [
       "              id  prediction\n",
       "1392280  5820062    0.788071\n",
       "521755    882045    0.402944\n",
       "881942   5199740    0.001373\n",
       "1662832  6160376    0.001347\n",
       "311921    624151    0.003013"
      ]
     },
     "execution_count": 228,
     "metadata": {},
     "output_type": "execute_result"
    }
   ],
   "source": [
    "validate_pred = pd.DataFrame.from_dict({\n",
    "    'id': validate_df.id,\n",
    "    'prediction': model.predict(validate_text)[:,1]\n",
    "})\n",
    "validate_pred.head(5)"
   ]
  },
  {
   "cell_type": "code",
   "execution_count": 229,
   "id": "48581a09",
   "metadata": {},
   "outputs": [],
   "source": [
    "submission = pd.DataFrame.from_dict({\n",
    "    'id': test.id,\n",
    "    'prediction': model.predict(test_text)[:,1]\n",
    "})\n",
    "submission.to_csv('submission.csv', index=False)"
   ]
  },
  {
   "cell_type": "code",
   "execution_count": null,
   "id": "ac0da97f",
   "metadata": {},
   "outputs": [],
   "source": []
  }
 ],
 "metadata": {
  "kernelspec": {
   "display_name": "Python 3 (ipykernel)",
   "language": "python",
   "name": "python3"
  },
  "language_info": {
   "codemirror_mode": {
    "name": "ipython",
    "version": 3
   },
   "file_extension": ".py",
   "mimetype": "text/x-python",
   "name": "python",
   "nbconvert_exporter": "python",
   "pygments_lexer": "ipython3",
   "version": "3.9.7"
  }
 },
 "nbformat": 4,
 "nbformat_minor": 5
}
